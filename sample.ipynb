{
  "cells": [
    {
      "cell_type": "markdown",
      "source": [
        "# Sample Notebook\n",
        "Demonstration."
      ]
    },
    {
      "cell_type": "code",
      "execution_count": 1,
      "source": [
        "x = 1\n",
        "print('Cell 1:', x)\n"
      ],
      "outputs": []
    },
    {
      "cell_type": "code",
      "execution_count": 2,
      "source": "for i in range(3):\n    print('Cell 2:', i)\n",
      "outputs": []
    }
  ],
  "metadata": {
    "language_info": {
      "name": "python"
    }
  },
  "nbformat": 4,
  "nbformat_minor": 5
}